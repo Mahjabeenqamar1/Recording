{
  "nbformat": 4,
  "nbformat_minor": 0,
  "metadata": {
    "colab": {
      "provenance": [],
      "mount_file_id": "1h6dwcg4X6MD-6gLs1O5iPdrrWwPfgeaY",
      "authorship_tag": "ABX9TyNZev7z82u7ztkjQRPFVmpg",
      "include_colab_link": true
    },
    "kernelspec": {
      "name": "python3",
      "display_name": "Python 3"
    },
    "language_info": {
      "name": "python"
    }
  },
  "cells": [
    {
      "cell_type": "markdown",
      "metadata": {
        "id": "view-in-github",
        "colab_type": "text"
      },
      "source": [
        "<a href=\"https://colab.research.google.com/github/Mahjabeenqamar1/Recording/blob/main/recording.ipynb\" target=\"_parent\"><img src=\"https://colab.research.google.com/assets/colab-badge.svg\" alt=\"Open In Colab\"/></a>"
      ]
    },
    {
      "cell_type": "code",
      "execution_count": 1,
      "metadata": {
        "colab": {
          "base_uri": "https://localhost:8080/"
        },
        "id": "wvHAmmLGzyrr",
        "outputId": "c813efc2-e7b0-487b-e2b4-c202c4d4777a"
      },
      "outputs": [
        {
          "output_type": "stream",
          "name": "stdout",
          "text": [
            "Collecting pydub\n",
            "  Downloading pydub-0.25.1-py2.py3-none-any.whl.metadata (1.4 kB)\n",
            "Downloading pydub-0.25.1-py2.py3-none-any.whl (32 kB)\n",
            "Installing collected packages: pydub\n",
            "Successfully installed pydub-0.25.1\n"
          ]
        }
      ],
      "source": [
        "!pip install pydub\n"
      ]
    },
    {
      "cell_type": "code",
      "source": [
        "import os\n",
        "from pydub import AudioSegment\n",
        "\n",
        "def convert_all_m4a_to_wav(folder_path):\n",
        "    # Create an output directory\n",
        "    output_folder = os.path.join(folder_path, \"converted_wav\")\n",
        "    os.makedirs(output_folder, exist_ok=True)\n",
        "\n",
        "    for filename in os.listdir(folder_path):\n",
        "        if filename.lower().endswith(\".m4a\"):\n",
        "            input_path = os.path.join(folder_path, filename)\n",
        "            output_filename = os.path.splitext(filename)[0] + \".wav\"\n",
        "            output_path = os.path.join(output_folder, output_filename)\n",
        "\n",
        "            try:\n",
        "                # Load and convert\n",
        "                audio = AudioSegment.from_file(input_path, format=\"m4a\")\n",
        "                audio.export(output_path, format=\"wav\")\n",
        "                print(f\"✔ Converted: {filename} -> {output_filename}\")\n",
        "            except Exception as e:\n",
        "                print(f\"❌ Failed to convert {filename}: {e}\")\n",
        "\n",
        "# Example usage\n",
        "convert_all_m4a_to_wav(\"/content/drive/MyDrive/Data_set/Sound Recordings\")  # Replace with your folder path\n"
      ],
      "metadata": {
        "colab": {
          "base_uri": "https://localhost:8080/"
        },
        "id": "LAB-YIvZ1Bh-",
        "outputId": "a72d8d42-a228-428e-8d89-e54cb83b590f"
      },
      "execution_count": 2,
      "outputs": [
        {
          "output_type": "stream",
          "name": "stdout",
          "text": [
            "✔ Converted: one.m4a -> one.wav\n",
            "✔ Converted: two.m4a -> two.wav\n",
            "✔ Converted: three.m4a -> three.wav\n",
            "✔ Converted: four.m4a -> four.wav\n",
            "✔ Converted: five.m4a -> five.wav\n",
            "✔ Converted: six.m4a -> six.wav\n",
            "✔ Converted: seven.m4a -> seven.wav\n",
            "✔ Converted: eight.m4a -> eight.wav\n",
            "✔ Converted: nine.m4a -> nine.wav\n",
            "✔ Converted: ten.m4a -> ten.wav\n",
            "✔ Converted: eleven.m4a -> eleven.wav\n",
            "✔ Converted: twelve.m4a -> twelve.wav\n",
            "✔ Converted: thirteen.m4a -> thirteen.wav\n",
            "✔ Converted: fourteen.m4a -> fourteen.wav\n",
            "✔ Converted: fifteen.m4a -> fifteen.wav\n",
            "✔ Converted: sixteen.m4a -> sixteen.wav\n",
            "✔ Converted: seventeen.m4a -> seventeen.wav\n",
            "✔ Converted: eighteen.m4a -> eighteen.wav\n",
            "✔ Converted: nineteen.m4a -> nineteen.wav\n",
            "✔ Converted: twenty.m4a -> twenty.wav\n",
            "✔ Converted: thirty.m4a -> thirty.wav\n",
            "✔ Converted: forty.m4a -> forty.wav\n",
            "✔ Converted: fifty.m4a -> fifty.wav\n",
            "✔ Converted: sixty.m4a -> sixty.wav\n",
            "✔ Converted: seventy.m4a -> seventy.wav\n",
            "✔ Converted: eighty.m4a -> eighty.wav\n",
            "✔ Converted: ninety.m4a -> ninety.wav\n",
            "✔ Converted: hundred.m4a -> hundred.wav\n",
            "✔ Converted: room1.m4a -> room1.wav\n",
            "✔ Converted: room2.m4a -> room2.wav\n",
            "✔ Converted: room3.m4a -> room3.wav\n"
          ]
        }
      ]
    },
    {
      "cell_type": "code",
      "source": [],
      "metadata": {
        "id": "uGgk3Upb1Llg"
      },
      "execution_count": null,
      "outputs": []
    }
  ]
}